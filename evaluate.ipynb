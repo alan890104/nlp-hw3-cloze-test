{
 "cells": [
  {
   "cell_type": "code",
   "execution_count": 5,
   "metadata": {},
   "outputs": [],
   "source": [
    "from collections import Counter\n",
    "import json\n",
    "import os\n",
    "import random\n",
    "import re\n",
    "import string\n",
    "from glob import glob\n",
    "from typing import Any, Dict, List, Tuple, Union\n",
    "\n",
    "from nltk.lm import MLE, KneserNeyInterpolated, Laplace, WittenBellInterpolated\n",
    "from nltk.lm.preprocessing import padded_everygram_pipeline\n",
    "from tqdm import tqdm\n",
    "import spacy\n",
    "import utils\n"
   ]
  },
  {
   "cell_type": "code",
   "execution_count": 6,
   "metadata": {},
   "outputs": [],
   "source": [
    "# Type define\n",
    "Model = Union[MLE, Laplace, KneserNeyInterpolated, WittenBellInterpolated]\n",
    "\n",
    "# Rules define\n",
    "PUNCTUATON = set(string.punctuation)\n",
    "PUNCTUATON.remove('_')\n",
    "\n",
    "EXCEPTION_DOT = {\"a.m.\", \"p.m.\", \"e.g.\",\n",
    "                 \"mr.\", \"ms.\", \"mrs.\", \"dr.\", \"st.\", \"u.s.\"}\n",
    "\n",
    "# Global Variable\n",
    "assert spacy.prefer_gpu(), \"Cannot run with gpu\"\n",
    "NLP = spacy.load('en_core_web_sm', disable=[\"tok2vec\", \"ner\", \"textcat\"])\n",
    "\n",
    "# Dubug Variable\n",
    "DEBUG_ALL_ZERO = 0"
   ]
  },
  {
   "cell_type": "code",
   "execution_count": null,
   "metadata": {},
   "outputs": [],
   "source": [
    "def LoadRawJson() -> List[dict]:\n",
    "    print(\"- Start Loading Jsons\")\n",
    "    src = glob(os.path.join(\"./hw3/train\", \"*.json\"))\n",
    "    raw: List[dict] = []\n",
    "    with tqdm(total=len(src)) as pbar:\n",
    "        for file in src:\n",
    "            with open(file, 'r') as F:\n",
    "                data: dict = json.load(F)\n",
    "                raw.append(data)\n",
    "            pbar.update(1)\n",
    "    return raw\n"
   ]
  },
  {
   "cell_type": "code",
   "execution_count": null,
   "metadata": {},
   "outputs": [],
   "source": [
    "\n",
    "def TrainTestSplit(dataset: List[dict], test_size: Union[int, float] = 0.1, seed: int = None) -> Tuple[list, list]:\n",
    "    random.seed(seed)\n",
    "    size: int = 0\n",
    "    if isinstance(test_size, int):\n",
    "        assert test_size <= len(dataset), \"test_size <= len(dataset)\"\n",
    "        size = test_size\n",
    "    elif isinstance(test_size, float):\n",
    "        assert test_size < 1.0, \"0 <= test_size <= 1\"\n",
    "        size = int(len(dataset)*test_size)\n",
    "    idxs = list(range(len(dataset)))\n",
    "    test_set_idx = random.choices(idxs, k=size)\n",
    "    train_set_idx = list(set(idxs)-set(test_set_idx))\n",
    "\n",
    "    train_set = [dataset[i] for i in train_set_idx]\n",
    "    test_set = [dataset[i] for i in test_set_idx]\n",
    "\n",
    "    return train_set, test_set"
   ]
  },
  {
   "cell_type": "code",
   "execution_count": null,
   "metadata": {},
   "outputs": [],
   "source": [
    "def ResolveTrainingSet(dataset: List[dict]) -> List[List[str]]:\n",
    "    training_set: List[List[str]] = []\n",
    "    for data in dataset:\n",
    "        result: str = data[\"article\"]\n",
    "        answers: List[str] = [data[\"answers\"][_]\n",
    "                              for _ in data[\"answers\"]]\n",
    "        options: List[str] = [''] * len(answers)\n",
    "        for i, [(_, v), ans] in enumerate(zip(data[\"options\"].items(), answers)):\n",
    "            options[i] = v[ord(ans)-ord('A')]\n",
    "        for op in options:\n",
    "            result = result.replace(\" _ \", \" {} \".format(op), 1)\n",
    "        training_set.append(result)\n",
    "    return training_set\n"
   ]
  },
  {
   "cell_type": "code",
   "execution_count": null,
   "metadata": {},
   "outputs": [],
   "source": [
    "def ResolveTestingSet(dataset: List[dict]) -> Tuple[List[Dict[str, str]], Dict[str, str]]:\n",
    "    '''\n",
    "    Return (list of {articles,options}, answers)\n",
    "    '''\n",
    "    testing_set: List[Dict[str, str]] = []\n",
    "    answers_set: Dict[str, str] = {}\n",
    "    for data in dataset:\n",
    "        answers: Dict[str, str] = data[\"answers\"]\n",
    "        options: List[Dict[str, List[str]]] = data[\"options\"]\n",
    "        answers_set = {**answers_set, **answers}\n",
    "        testing_set.append({\n",
    "            \"article\": data[\"article\"],\n",
    "            \"options\": options\n",
    "        })\n",
    "    return testing_set, answers_set"
   ]
  },
  {
   "cell_type": "code",
   "execution_count": null,
   "metadata": {},
   "outputs": [],
   "source": [
    "def preprocess(context: str) -> List[List[Union[str, Any]]]:\n",
    "    '''\n",
    "    prepocess text for tokenizing\n",
    "    '''\n",
    "    # TODO : 先對context做去除所有符號和數字並且保留符號 ' , . _ -和空格\n",
    "    # TODO : 刪掉兩個 . 以上的\n",
    "    # TODO : 刪掉兩個 - 以上的\n",
    "    # TODO : 刪除前綴和後綴的-\n",
    "    # TODO : 由於有些字母依然會包含 . 所沒有在EXCEPTION_DOT中的要做split把點去掉\n",
    "    result: List[List[Union[str, Any]]] = []\n",
    "    context = re.sub('\\d+', \" \", context)\n",
    "    context = re.sub(r\"[^\\w' ,._-]\", \" \", context)\n",
    "    context = re.sub(r'(\\.){2,}', ' ', context)\n",
    "    context = re.sub(r'(-){2,}', ' ', context)\n",
    "    context = context.lstrip('-')\n",
    "    context = context.rstrip('-')\n",
    "    docs = NLP(context)\n",
    "    for sent in docs.sents:\n",
    "        tkn = [x.lemma_.lower() for x in sent if (not x.is_space)\n",
    "               and (not x.lower_ in PUNCTUATON) and (not x.is_stop)]\n",
    "        clean: List[str] = []\n",
    "        for dirty in tkn:\n",
    "            if dirty in EXCEPTION_DOT:\n",
    "                clean.append(dirty)\n",
    "            else:\n",
    "                for d in dirty.split('.'):\n",
    "                    if len(d) > 0:\n",
    "                        clean.append(d)\n",
    "        result.append(clean)\n",
    "    return result"
   ]
  },
  {
   "cell_type": "code",
   "execution_count": null,
   "metadata": {},
   "outputs": [],
   "source": [
    "\n",
    "def Tokenizer(contexts: List[str]) -> List[List[str]]:\n",
    "    '''\n",
    "    contexts is a list of paragraphs\n",
    "    '''\n",
    "    print(\"- Start Tokenize\")\n",
    "    tknz_texts = []\n",
    "    with tqdm(total=len(contexts)) as pbar:\n",
    "        for context in contexts:\n",
    "            pbar.update(1)\n",
    "            tokenized_text = preprocess(context)\n",
    "            tknz_texts.extend(tokenized_text)\n",
    "    return tknz_texts"
   ]
  },
  {
   "cell_type": "code",
   "execution_count": null,
   "metadata": {},
   "outputs": [],
   "source": [
    "def Train(n_gram: int, tknz: List[List[str]], model: Union[str, Model] = \"MLE\", **kwargs) -> Model:\n",
    "    assert model in [\"MLE\", \"Laplace\", \"KneserNeyInterpolated\",\n",
    "                     \"WittenBellInterpolated\"] or model in [MLE, Laplace, KneserNeyInterpolated, WittenBellInterpolated], \"undefined model type\"\n",
    "    print(\"- Start Padding\")\n",
    "    train_data, padded_sents = padded_everygram_pipeline(n_gram, tknz)\n",
    "    print(\"- Start Training with model {}\".format(model))\n",
    "    basic_model: Model\n",
    "    if model == \"MLE\" or model == MLE:\n",
    "        basic_model = MLE(n_gram, **kwargs)\n",
    "    elif model == \"Laplace\" or model == Laplace:\n",
    "        basic_model = Laplace(n_gram, **kwargs)\n",
    "    elif model == \"KneserNeyInterpolated\" or model == KneserNeyInterpolated:\n",
    "        basic_model = KneserNeyInterpolated(ngram, **kwargs)\n",
    "    elif model == \"WittenBellInterpolated\" or model == WittenBellInterpolated:\n",
    "        basic_model = WittenBellInterpolated(ngram, **kwargs)\n",
    "    basic_model.fit(train_data, padded_sents)\n",
    "    return basic_model"
   ]
  },
  {
   "cell_type": "code",
   "execution_count": null,
   "metadata": {},
   "outputs": [],
   "source": [
    "def Prediction(model: Model, n_gram: int, dataset: List[dict],) -> Dict[str, str]:\n",
    "    print(\"- Start Prediction\")\n",
    "    answer_dict: Dict[str, str] = {}\n",
    "    with tqdm(total=len(dataset)) as pbar:\n",
    "        for question in dataset:\n",
    "            start_row: int = 0\n",
    "            start_idx: int = 0\n",
    "            article_token = preprocess(question[\"article\"])\n",
    "            for (ques_num, ops) in question[\"options\"].items():\n",
    "                argmax_i, start_row, start_idx = getMaximumScore(\n",
    "                    model, n_gram, start_row, start_idx, article_token, ops)\n",
    "                answer_dict[ques_num] = chr(argmax_i+ord('A'))\n",
    "                start_idx += 1\n",
    "            pbar.update(1)\n",
    "    return answer_dict"
   ]
  },
  {
   "cell_type": "code",
   "execution_count": null,
   "metadata": {},
   "outputs": [],
   "source": [
    "\n",
    "def getMaximumScore(model: Model, max_ngram: int, start_row: int, start_idx: int, article_token: List[List[Union[str, Any]]], ops: List[str]) -> Tuple[int, int]:\n",
    "    '''\n",
    "    return (argmax element,new start_row, new start_idx)\n",
    "    NOTE: the article_token will be modified\n",
    "    '''\n",
    "    global DEBUG_ALL_ZERO\n",
    "    idx: int = start_idx\n",
    "    row: int = start_row\n",
    "    while True:\n",
    "        try:\n",
    "            idx = article_token[row].index(\"_\", idx)\n",
    "            break\n",
    "        except:\n",
    "            idx = 0\n",
    "            row += 1\n",
    "    scores: List[int] = [0] * len(ops)\n",
    "    for i, op in enumerate(ops):\n",
    "        subset: List[str] = article_token[row][max(0, idx-max_ngram+1):idx]\n",
    "        assert len(subset) <= max_ngram-1, \"lenght of subset({}) needs to be equal to or less than max_ngram-1({})\".format(\n",
    "            len(subset), max_ngram-1)\n",
    "        # Perform lemmatize on each option\n",
    "        lemma_op = NLP(op)[0].lemma_.lower()\n",
    "        score = model.score(lemma_op, subset)\n",
    "        scores[i] = (score)\n",
    "\n",
    "    if all(s == 0 for s in scores):\n",
    "        DEBUG_ALL_ZERO += 1\n",
    "\n",
    "    argmax_i, _ = utils.argmax(scores)\n",
    "    article_token[row][idx] = ops[argmax_i]\n",
    "    return argmax_i, row, idx\n"
   ]
  },
  {
   "cell_type": "code",
   "execution_count": null,
   "metadata": {},
   "outputs": [],
   "source": [
    "def Evaluation(pred: Dict[str, str], actual: Dict[str, str]):\n",
    "    '''\n",
    "    Display evaluation matrix\n",
    "\n",
    "    Return\n",
    "    -------\n",
    "    - accuracy\n",
    "    - precision\n",
    "    - recall\n",
    "    - f1_score\n",
    "    '''\n",
    "    assert len(pred) == len(actual), \"length of two input must be same\"\n",
    "    labels = ord(max(max(pred.values()), max(actual.values())))-ord('A')+1\n",
    "    metric = [[0]*labels for _ in range(labels)]\n",
    "    # Compute confusion matrix by metric[actual][pred]\n",
    "    for k, v in pred.items():\n",
    "        metric[ord(actual[k])-ord('A')][ord(v)-ord('A')] += 1\n",
    "    # Internal variables\n",
    "    correct_elem: List[float] = [metric[i][i] for i in range(labels)]\n",
    "    actual_elem: List[float] = [sum(metric[i]) for i in range(labels)]\n",
    "    pred_elem: List[float] = [sum(x) for x in zip(*metric)]\n",
    "    # Compute accuracy\n",
    "    # Compute precision (預測A而且正確的/所有預測是A的)\n",
    "    # Compute recall (預測A而且正確的/所有真正是A的)\n",
    "    accuracy: float = round(sum(correct_elem)/len(pred), 4)\n",
    "    precision: List[float] = [round(correct_elem[i]/pred_elem[i], 2) if pred_elem[i] != 0 else \"NaN\"\n",
    "                              for i in range(labels)]\n",
    "    recall: List[float] = [round(correct_elem[i]/actual_elem[i], 2) if actual_elem[i] != 0 else \"NaN\"\n",
    "                           for i in range(labels)]\n",
    "    f1_score: List[float] = [round(2*precision[i]*recall[i]/(precision[i]+recall[i]), 2)\n",
    "                             if precision[i]+recall[i] != 0 else \"NaN\" for i in range(labels)]\n",
    "    print(\"====================================\")\n",
    "    print(\"Accuracy  : {}\".format(accuracy))\n",
    "    print(\"Precision : {}\".format(precision))\n",
    "    print(\"Recall    : {}\".format(recall))\n",
    "    print(\"F1-Score  : {}\".format(f1_score))\n",
    "    print(\"Confusion Matrix:\")\n",
    "    for i in range(labels+1):\n",
    "        if i == 0:\n",
    "            print(\"{:<7s}\".format(''), end='')\n",
    "        else:\n",
    "            print(\"{:<7s}\".format(chr(i-1+ord('A'))+'?'), end='')\n",
    "    print()\n",
    "    for a in range(labels):\n",
    "        print(\"{:<7s}\".format(chr(a + ord('A'))), end='')\n",
    "        for p in range(labels):\n",
    "            print(\"{:<7d}\".format(metric[a][p]), end='')\n",
    "        print()\n",
    "    print(\"All zero rate: {}\".format(DEBUG_ALL_ZERO))\n",
    "    print(\"====================================\")\n",
    "    return accuracy, precision, recall, f1_score"
   ]
  },
  {
   "cell_type": "code",
   "execution_count": null,
   "metadata": {},
   "outputs": [],
   "source": [
    "def Solve(model: Model, n_gram: int, path: str = \"result.csv\") -> Dict[str, str]:\n",
    "    dataset: List[dict] = []\n",
    "    test_list = glob(os.path.join(\"./hw3/test\", \"*.json\"))\n",
    "    print(\"- Start Solving\")\n",
    "    for file in test_list:\n",
    "        with open(file, 'r') as F:\n",
    "            question: dict = json.load(F)\n",
    "            dataset.append(question)\n",
    "    answer_dict = Prediction(model, n_gram, dataset)\n",
    "    utils.dict_writer(answer_dict, path)\n",
    "    return answer_dict"
   ]
  },
  {
   "cell_type": "code",
   "execution_count": 7,
   "metadata": {},
   "outputs": [],
   "source": [
    "import numpy as np\n",
    "import matplotlib.pyplot as plt\n",
    "def DrawBar(counter:Counter,length:int=10):\n",
    "    arr = counter.most_common(length)\n",
    "    key = [x[0] for x in arr]\n",
    "    val = [x[1] for x in arr]\n",
    "    x = np.arange(len(arr))\n",
    "    plt.bar(x, val)\n",
    "    plt.xticks(x, key)\n",
    "    plt.xlabel('Words')\n",
    "    plt.ylabel('Freq')\n",
    "    plt.title('Word Frequecy without stopwords')"
   ]
  },
  {
   "cell_type": "code",
   "execution_count": 8,
   "metadata": {},
   "outputs": [],
   "source": [
    "def Analysis(path: str):\n",
    "    '''\n",
    "    Find top ten words with/without stop words\n",
    "    '''\n",
    "    model: Model = utils.load_pkl(path)\n",
    "    DrawBar(model.vocab.counts)"
   ]
  },
  {
   "cell_type": "code",
   "execution_count": 10,
   "metadata": {},
   "outputs": [
    {
     "data": {
      "image/png": "[encoded data removed]",
      "text/plain": [
       "<Figure size 432x288 with 1 Axes>"
      ]
     },
     "metadata": {
      "needs_background": "light"
     },
     "output_type": "display_data"
    }
   ],
   "source": [
    "Analysis(\"hw3\\model\\generate_WittenBellInterpolated_nostop.pkl\")"
   ]
  },
  {
   "cell_type": "code",
   "execution_count": null,
   "metadata": {},
   "outputs": [],
   "source": []
  }
 ],
 "metadata": {
  "interpreter": {
   "hash": "ed5922a014e3af9ff7068397d43d1b878e0b963721c66b789277abfd127eb0cd"
  },
  "kernelspec": {
   "display_name": "Python 3.8.6 64-bit",
   "language": "python",
   "name": "python3"
  },
  "language_info": {
   "codemirror_mode": {
    "name": "ipython",
    "version": 3
   },
   "file_extension": ".py",
   "mimetype": "text/x-python",
   "name": "python",
   "nbconvert_exporter": "python",
   "pygments_lexer": "ipython3",
   "version": "3.8.6"
  },
  "orig_nbformat": 4
 },
 "nbformat": 4,
 "nbformat_minor": 2
}
